{
 "cells": [
  {
   "cell_type": "markdown",
   "metadata": {},
   "source": [
    "# Exercises: Level 1"
   ]
  },
  {
   "cell_type": "markdown",
   "metadata": {},
   "source": [
    "1. Get user input using input(“Enter your age: ”). If user is 18 or older, give feedback: You are old enough to drive. If below 18 give feedback to wait for the missing amount of years. Output:\n",
    "Enter your age: 30\n",
    "You are old enough to learn to drive.\n",
    "Output:\n",
    "Enter your age: 15\n",
    "You need 3 more years to learn to drive."
   ]
  },
  {
   "cell_type": "code",
   "execution_count": 3,
   "metadata": {},
   "outputs": [
    {
     "name": "stdout",
     "output_type": "stream",
     "text": [
      "You need 7 more years to learn to drive\n"
     ]
    }
   ],
   "source": [
    "age = int(input(\"Enter your age: \"))\n",
    "if age >= 18:\n",
    "    print(\"Your are old enough to drive\")\n",
    "else:\n",
    "    print(\"You need %d more years to learn to drive\" %(18 - age))"
   ]
  },
  {
   "cell_type": "markdown",
   "metadata": {},
   "source": [
    "2. Compare the values of my_age and your_age using if … else. Who is older (me or you)? Use input(“Enter your age: ”) to get the age as input. You can use a nested condition to print 'year' for 1 year difference in age, 'years' for bigger differences, and a custom text if my_age = your_age. Output:\n",
    "Enter your age: 30\n",
    "You are 5 years older than me."
   ]
  },
  {
   "cell_type": "code",
   "execution_count": 6,
   "metadata": {},
   "outputs": [
    {
     "name": "stdout",
     "output_type": "stream",
     "text": [
      "We are of the same age.\n"
     ]
    }
   ],
   "source": [
    "my_age = 25\n",
    "your_age = int(input(\"Enter your age: \"))\n",
    "if my_age > your_age:\n",
    "    print(\"You are %d years younger than me.\" %(my_age - your_age))\n",
    "elif my_age < your_age:\n",
    "    print(\"You are %d years older than me.\" %(your_age - my_age))\n",
    "else:\n",
    "    print(\"We are of the same age.\")       \n"
   ]
  },
  {
   "cell_type": "markdown",
   "metadata": {},
   "source": [
    "3. Get two numbers from the user using input prompt. If a is greater than b return a is greater than b, if a is less b return a is smaller than b, else a is equal to b. Output:\n",
    "Enter number one: 4\n",
    "Enter number two: 3\n",
    "4 is greater than 3"
   ]
  },
  {
   "cell_type": "code",
   "execution_count": 9,
   "metadata": {},
   "outputs": [
    {
     "name": "stdout",
     "output_type": "stream",
     "text": [
      "5 is greater than 2\n"
     ]
    }
   ],
   "source": [
    "a = int(input('Enter number one: '))\n",
    "b = int(input('Enter number two: '))\n",
    "if a > b:\n",
    "    print(\"%d is greater than %d\" %(a,b))\n",
    "elif a < b:\n",
    "    print(\"%d is smaller than %d\" %(a,b))\n",
    "else:\n",
    "    print(\"%d is equal %d\" %(a,b))"
   ]
  },
  {
   "cell_type": "markdown",
   "metadata": {},
   "source": [
    "# Exercises: Level 2"
   ]
  },
  {
   "cell_type": "markdown",
   "metadata": {},
   "source": [
    "1. Write a code which gives grade to students according to theirs scores:\n",
    "\n",
    "80-100, A\n",
    "70-89, B\n",
    "60-69, C\n",
    "50-59, D\n",
    "0-49, F"
   ]
  },
  {
   "cell_type": "code",
   "execution_count": 26,
   "metadata": {},
   "outputs": [
    {
     "name": "stdout",
     "output_type": "stream",
     "text": [
      "Invalid Score\n"
     ]
    }
   ],
   "source": [
    "score = int(input(\"Enter your score: \"))\n",
    "if score <= 49:\n",
    "    print('F')\n",
    "elif score >= 50 and score <= 59:\n",
    "    print('D')\n",
    "elif score >= 60 and score <= 69:\n",
    "    print('C')\n",
    "elif score >= 70 and score <= 89:\n",
    "    print('B')\n",
    "elif score >= 90 and score <= 100:\n",
    "    print('A')\n",
    "else:\n",
    "    print('Invalid Score')"
   ]
  },
  {
   "cell_type": "markdown",
   "metadata": {},
   "source": [
    "2. Check if the season is Autumn, Winter, Spring or Summer. If the user input is: September, October or November, the season is Autumn. December, January or February, the season is Winter. March, April or May, the season is Spring June, July or August, the season is Summer"
   ]
  },
  {
   "cell_type": "code",
   "execution_count": 29,
   "metadata": {},
   "outputs": [
    {
     "name": "stdout",
     "output_type": "stream",
     "text": [
      "The season is Spring\n"
     ]
    }
   ],
   "source": [
    "season = input(\"Type the month of the year: \")\n",
    "Autumn = ['September', 'October', 'November']\n",
    "Winter = ['December', 'January', 'February']\n",
    "Spring = ['March', 'April', 'May']\n",
    "Summer = ['June', 'July', 'August']\n",
    "\n",
    "if season in Autumn:\n",
    "    print('The season is Autumn')\n",
    "elif season in Winter:\n",
    "    print('The season is Winter')\n",
    "elif season in Spring:\n",
    "    print('The season is Spring')\n",
    "elif season in Summer:\n",
    "    print('The season is Summer')"
   ]
  },
  {
   "cell_type": "markdown",
   "metadata": {},
   "source": [
    "3. The following list contains some fruits:\n",
    "\n",
    "fruits = ['banana', 'orange', 'mango', 'lemon']\n",
    "If a fruit doesn't exist in the list add the fruit to the list and print the modified list. If the fruit exists print('That fruit already exist in the list')"
   ]
  },
  {
   "cell_type": "code",
   "execution_count": 34,
   "metadata": {},
   "outputs": [
    {
     "name": "stdout",
     "output_type": "stream",
     "text": [
      "['banana', 'orange', 'mango', 'lemon', 'ndjj']\n"
     ]
    }
   ],
   "source": [
    "fruits = ['banana', 'orange', 'mango', 'lemon']\n",
    "fruit = input('Enter the fruit: ')\n",
    "if fruit in fruits:\n",
    "    print('That fruit already exist in the list')\n",
    "else:\n",
    "    fruits.append(fruit)\n",
    "    print(fruits)"
   ]
  },
  {
   "cell_type": "markdown",
   "metadata": {},
   "source": [
    "# Exercises: Level 3"
   ]
  },
  {
   "cell_type": "markdown",
   "metadata": {},
   "source": [
    "4. Here we have a person dictionary.\n",
    "\n",
    "        person={\n",
    "    'first_name': 'Asabeneh',\n",
    "    'last_name': 'Yetayeh',\n",
    "    'age': 250,\n",
    "    'country': 'Finland',\n",
    "    'is_marred': True,\n",
    "    'skills': ['JavaScript', 'React', 'Node', 'MongoDB', 'Python'],\n",
    "    'address': {\n",
    "        'street': 'Space street',\n",
    "        'zipcode': '02210'\n",
    "    }\n",
    "    }"
   ]
  },
  {
   "cell_type": "markdown",
   "metadata": {},
   "source": [
    "* Check if the person dictionary has skills key, if so print out the middle skill in the skills list."
   ]
  },
  {
   "cell_type": "code",
   "execution_count": 45,
   "metadata": {},
   "outputs": [
    {
     "name": "stdout",
     "output_type": "stream",
     "text": [
      "Node\n"
     ]
    }
   ],
   "source": [
    "person={\n",
    "    'first_name': 'Asabeneh',\n",
    "    'last_name': 'Yetayeh',\n",
    "    'age': 250,\n",
    "    'country': 'Finland',\n",
    "    'is_marred': True,\n",
    "    'skills': ['JavaScript', 'React', 'Node', 'MongoDB', 'Python'],\n",
    "    'address': {\n",
    "        'street': 'Space street',\n",
    "        'zipcode': '02210'\n",
    "    }\n",
    "    }\n",
    "\n",
    "if 'skills' in person:\n",
    "    mid_skill = len(person['skills'])//2\n",
    "    print(person['skills'][mid_skill])"
   ]
  },
  {
   "cell_type": "markdown",
   "metadata": {},
   "source": [
    " * Check if the person dictionary has skills key, if so check if the person has 'Python' skill and print out the result."
   ]
  },
  {
   "cell_type": "code",
   "execution_count": 50,
   "metadata": {},
   "outputs": [
    {
     "name": "stdout",
     "output_type": "stream",
     "text": [
      "Python\n"
     ]
    }
   ],
   "source": [
    "if 'skills' in person:\n",
    "    if 'Python' in person['skills']:\n",
    "        print(person['skills'][skills.index('Python')])"
   ]
  },
  {
   "cell_type": "markdown",
   "metadata": {},
   "source": [
    "* If a person skills has only JavaScript and React, print('He is a front end developer'), if the person skills has Node, Python, MongoDB, print('He is a backend developer'), if the person skills has React, Node and MongoDB, Print('He is a fullstack developer'), else print('unknown title') - for more accurate results more conditions can be nested!"
   ]
  },
  {
   "cell_type": "code",
   "execution_count": 56,
   "metadata": {},
   "outputs": [
    {
     "name": "stdout",
     "output_type": "stream",
     "text": [
      "Unknown title\n"
     ]
    }
   ],
   "source": [
    "front_end = ['JavaScript', 'React']\n",
    "back_end = ['Node', 'Python', 'MongoDB']\n",
    "fullstack = ['React', 'Node', 'MongoDB']\n",
    "\n",
    "if front_end in person['skills']:\n",
    "    print(\"He is a front end developer\")\n",
    "elif back_end in person['skills']:\n",
    "    print(\"He is a back end developer\")\n",
    "elif fullstack in person['skills']:\n",
    "    print(\"He is a fullstack developer\")\n",
    "else:\n",
    "    print(\"Unknown title\")"
   ]
  },
  {
   "cell_type": "markdown",
   "metadata": {},
   "source": [
    "* If the person is married and if he lives in Finland, print the information in the following format:\n",
    "    Asabeneh Yetayeh lives in Finland. He is married."
   ]
  },
  {
   "cell_type": "code",
   "execution_count": 65,
   "metadata": {},
   "outputs": [
    {
     "name": "stdout",
     "output_type": "stream",
     "text": [
      "Asabeneh Yetayeh lives in Finland . He is married\n"
     ]
    }
   ],
   "source": [
    "if person['is_marred'] == True and person['country'] == 'Finland':\n",
    "    print(person['first_name'], person['last_name'], 'lives in', person['country'],'.' ' He is married')"
   ]
  }
 ],
 "metadata": {
  "kernelspec": {
   "display_name": "Python 3",
   "language": "python",
   "name": "python3"
  },
  "language_info": {
   "codemirror_mode": {
    "name": "ipython",
    "version": 3
   },
   "file_extension": ".py",
   "mimetype": "text/x-python",
   "name": "python",
   "nbconvert_exporter": "python",
   "pygments_lexer": "ipython3",
   "version": "3.9.18"
  }
 },
 "nbformat": 4,
 "nbformat_minor": 2
}

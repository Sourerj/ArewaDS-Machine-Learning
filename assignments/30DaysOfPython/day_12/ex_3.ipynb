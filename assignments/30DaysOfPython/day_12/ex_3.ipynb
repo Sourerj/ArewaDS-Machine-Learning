{
 "cells": [
  {
   "cell_type": "markdown",
   "metadata": {},
   "source": [
    "1. Call your function shuffle_list, it takes a list as a parameter and it returns a shuffled list"
   ]
  },
  {
   "cell_type": "code",
   "execution_count": null,
   "metadata": {},
   "outputs": [],
   "source": [
    "import random\n",
    "\n",
    "def shuffle_list(my_list):\n",
    "\n",
    "  random.shuffle(my_list)\n",
    "  return my_list\n",
    "\n",
    "# Example\n",
    "my_list = [1, 2, 3, 4, 5]\n",
    "shuffled_list = shuffle_list(my_list)\n",
    "print(\"Original list:\", my_list)\n",
    "print(\"Shuffled list:\", shuffled_list)\n"
   ]
  },
  {
   "cell_type": "markdown",
   "metadata": {},
   "source": [
    "2. Write a function which returns an array of seven random numbers in a range of 0-9. All the numbers must be unique."
   ]
  },
  {
   "cell_type": "code",
   "execution_count": null,
   "metadata": {},
   "outputs": [],
   "source": [
    "import random\n",
    "\n",
    "def generate_unique_random_numbers(num_numbers=7):\n",
    "\n",
    "  if num_numbers > 10:\n",
    "    raise ValueError(\"Cannot generate more unique numbers than the available range (10).\")\n",
    "\n",
    "  # Generate a set of unique random numbers until we have the desired number\n",
    "  generated_numbers = set()\n",
    "  while len(generated_numbers) < num_numbers:\n",
    "    generated_numbers.add(random.randint(0, 9))\n",
    "\n",
    "  # Convert the set to a list and return it\n",
    "  return list(generated_numbers)\n",
    "\n",
    "# Example usage\n",
    "unique_random_numbers = generate_unique_random_numbers()\n",
    "print(unique_random_numbers)\n"
   ]
  }
 ],
 "metadata": {
  "language_info": {
   "name": "python"
  }
 },
 "nbformat": 4,
 "nbformat_minor": 2
}

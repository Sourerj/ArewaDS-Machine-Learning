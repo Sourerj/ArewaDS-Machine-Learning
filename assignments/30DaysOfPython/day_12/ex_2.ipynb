{
 "cells": [
  {
   "cell_type": "markdown",
   "metadata": {},
   "source": [
    "1. Write a function list_of_hexa_colors which returns any number of hexadecimal colors in an array"
   ]
  },
  {
   "cell_type": "code",
   "execution_count": null,
   "metadata": {},
   "outputs": [],
   "source": [
    "import random\n",
    "\n",
    "def list_of_hexa_colors(num_colors=1):\n",
    "  colors = []\n",
    "  for _ in range(num_colors):\n",
    "    # Generate three random integers between 0 and 255 (inclusive)\n",
    "    red = random.randint(0, 255)\n",
    "    green = random.randint(0, 255)\n",
    "    blue = random.randint(0, 255)\n",
    "\n",
    "    # Convert each integer to its hexadecimal representation with two digits\n",
    "    hex_red = f\"{red:02x}\"\n",
    "    hex_green = f\"{green:02x}\"\n",
    "    hex_blue = f\"{blue:02x}\"\n",
    "\n",
    "    # Combine the three hexadecimal values into a single string\n",
    "    hex_color = f\"#{hex_red}{hex_green}{hex_blue}\"\n",
    "\n",
    "    colors.append(hex_color)\n",
    "\n",
    "  return colors\n",
    "\n",
    "# Example usage\n",
    "generated_colors = list_of_hexa_colors(5)\n",
    "print(\"Generated hexadecimal colors:\")\n",
    "for color in generated_colors:\n",
    "  print(color)\n"
   ]
  },
  {
   "cell_type": "markdown",
   "metadata": {},
   "source": [
    "2. Write a function list_of_rgb_colors which returns any number of RGB colors in an array."
   ]
  },
  {
   "cell_type": "code",
   "execution_count": null,
   "metadata": {},
   "outputs": [],
   "source": [
    "import random\n",
    "\n",
    "def list_of_rgb_colors(num_colors=1):\n",
    "  \n",
    "  colors = []\n",
    "  for _ in range(num_colors):\n",
    "    red = random.randint(0, 255)\n",
    "    green = random.randint(0, 255)\n",
    "    blue = random.randint(0, 255)\n",
    "    colors.append((red, green, blue))\n",
    "\n",
    "  return colors\n",
    "\n",
    "# Example\n",
    "generated_colors = list_of_rgb_colors(5)\n",
    "print(\"Generated RGB colors:\")\n",
    "for color in generated_colors:\n",
    "  print(f\"({color[0]}, {color[1]}, {color[2]})\")\n"
   ]
  },
  {
   "cell_type": "markdown",
   "metadata": {},
   "source": [
    "3. Write a function generate_colors which can generate any number of hexa or rgb colors."
   ]
  },
  {
   "cell_type": "code",
   "execution_count": null,
   "metadata": {},
   "outputs": [],
   "source": [
    "import random\n",
    "\n",
    "def generate_colors(num_colors=1, format=\"hex\"):\n",
    "\n",
    "  colors = []\n",
    "  for _ in range(num_colors):\n",
    "    if format == \"hex\":\n",
    "      # Generate three random integers between 0 and 255 (inclusive)\n",
    "      red = random.randint(0, 255)\n",
    "      green = random.randint(0, 255)\n",
    "      blue = random.randint(0, 255)\n",
    "\n",
    "      # Convert each integer to its hexadecimal representation with two digits\n",
    "      hex_red = f\"{red:02x}\"\n",
    "      hex_green = f\"{green:02x}\"\n",
    "      hex_blue = f\"{blue:02x}\"\n",
    "\n",
    "      # Combine the three hexadecimal values into a single string\n",
    "      hex_color = f\"#{hex_red}{hex_green}{hex_blue}\"\n",
    "      colors.append(hex_color)\n",
    "    elif format == \"rgb\":\n",
    "      red = random.randint(0, 255)\n",
    "      green = random.randint(0, 255)\n",
    "      blue = random.randint(0, 255)\n",
    "      colors.append((red, green, blue))\n",
    "    else:\n",
    "      raise ValueError(f\"Invalid format: '{format}'. Choose either 'hex' or 'rgb'.\")\n",
    "\n",
    "  return colors\n",
    "\n",
    "# Example usage\n",
    "generated_hex_colors = generate_colors(5, format=\"hex\")\n",
    "print(\"Generated hexadecimal colors:\")\n",
    "for color in generated_hex_colors:\n",
    "  print(color)\n",
    "\n",
    "generated_rgb_colors = generate_colors(3, format=\"rgb\")\n",
    "print(\"Generated RGB colors:\")\n",
    "for color in generated_rgb_colors:\n",
    "  print(color)\n"
   ]
  }
 ],
 "metadata": {
  "language_info": {
   "name": "python"
  }
 },
 "nbformat": 4,
 "nbformat_minor": 2
}

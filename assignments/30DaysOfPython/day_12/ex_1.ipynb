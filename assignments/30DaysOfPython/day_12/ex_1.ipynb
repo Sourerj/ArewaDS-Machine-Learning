{
 "cells": [
  {
   "cell_type": "markdown",
   "metadata": {},
   "source": [
    "1. Write a function which generates a six digit/character random_user_id."
   ]
  },
  {
   "cell_type": "code",
   "execution_count": 6,
   "metadata": {},
   "outputs": [
    {
     "name": "stdout",
     "output_type": "stream",
     "text": [
      "jH1Hcz\n"
     ]
    }
   ],
   "source": [
    "import random\n",
    "\n",
    "def random_user_id():\n",
    "  # Define the pool of characters to choose from\n",
    "  characters = \"0123456789abcdefghijklmnopqrstuvwxyzABCDEFGHIJKLMNOPQRSTUVWXYZ\"\n",
    "\n",
    "  # Generate a random six-character string\n",
    "  random_id = \"\".join(random.choice(characters) for _ in range(6))\n",
    "\n",
    "  return random_id\n",
    "\n",
    "# Example\n",
    "print(random_user_id())\n"
   ]
  },
  {
   "cell_type": "markdown",
   "metadata": {},
   "source": [
    "2. Modify the previous task. Declare a function named user_id_gen_by_user. It doesn’t take any parameters but it takes two inputs using input(). One of the inputs is the number of characters and the second input is the number of IDs which are supposed to be generated."
   ]
  },
  {
   "cell_type": "code",
   "execution_count": 9,
   "metadata": {},
   "outputs": [
    {
     "name": "stdout",
     "output_type": "stream",
     "text": [
      "Generated user IDs:\n",
      "vNnN\n",
      "6AIC\n",
      "6zKe\n",
      "NxZh\n",
      "w2N2\n",
      "eWdN\n",
      "MIfB\n"
     ]
    }
   ],
   "source": [
    "import random\n",
    "\n",
    "def user_id_gen_by_user():\n",
    "  characters = \"0123456789abcdefghijklmnopqrstuvwxyzABCDEFGHIJKLMNOPQRSTUVWXYZ\"\n",
    "\n",
    "  while True:\n",
    "    num_chars = input(\"Enter the number of characters for each ID: \")\n",
    "    num_ids = input(\"Enter the number of IDs to generate: \")\n",
    "\n",
    "    if num_chars.isdigit() and num_ids.isdigit():\n",
    "      num_chars = int(num_chars)\n",
    "      num_ids = int(num_ids)\n",
    "      break  # Exit the loop if both inputs are valid integers\n",
    "    else:\n",
    "      print(\"Invalid input. Please enter integers for both number of characters and number of IDs.\")\n",
    "\n",
    "  generated_ids = [\n",
    "    \"\".join(random.choice(characters) for _ in range(num_chars))\n",
    "    for _ in range(num_ids)\n",
    "  ]\n",
    "\n",
    "  print(\"Generated user IDs:\")\n",
    "  for user_id in generated_ids:\n",
    "    print(user_id)\n",
    "\n",
    "# Example usage\n",
    "user_id_gen_by_user()\n"
   ]
  },
  {
   "cell_type": "code",
   "execution_count": 10,
   "metadata": {},
   "outputs": [
    {
     "name": "stdout",
     "output_type": "stream",
     "text": [
      "Generated RGB colors:\n",
      "(191, 221, 38)\n",
      "(122, 2, 124)\n",
      "(184, 52, 79)\n",
      "(113, 53, 151)\n",
      "(70, 185, 77)\n"
     ]
    }
   ],
   "source": [
    "import random\n",
    "\n",
    "def rgb_color_gen(num_colors=1):\n",
    "  colors = []\n",
    "  for _ in range(num_colors):\n",
    "    red = random.randint(0, 255)\n",
    "    green = random.randint(0, 255)\n",
    "    blue = random.randint(0, 255)\n",
    "    colors.append((red, green, blue))\n",
    "\n",
    "  return colors\n",
    "\n",
    "# Example\n",
    "generated_colors = rgb_color_gen(5)\n",
    "print(\"Generated RGB colors:\")\n",
    "for color in generated_colors:\n",
    "  print(f\"({color[0]}, {color[1]}, {color[2]})\")\n"
   ]
  },
  {
   "cell_type": "markdown",
   "metadata": {},
   "source": [
    "1. Write a function list_of_hexa_colors which returns any number of hexadecimal colors in an array"
   ]
  },
  {
   "cell_type": "code",
   "execution_count": 11,
   "metadata": {},
   "outputs": [
    {
     "name": "stdout",
     "output_type": "stream",
     "text": [
      "Generated hexadecimal colors:\n",
      "#c9edf8\n",
      "#8c588b\n",
      "#b3c2ff\n",
      "#ed51c8\n",
      "#2cba7e\n"
     ]
    }
   ],
   "source": [
    "import random\n",
    "\n",
    "def list_of_hexa_colors(num_colors=1):\n",
    "  colors = []\n",
    "  for _ in range(num_colors):\n",
    "    # Generate three random integers between 0 and 255 (inclusive)\n",
    "    red = random.randint(0, 255)\n",
    "    green = random.randint(0, 255)\n",
    "    blue = random.randint(0, 255)\n",
    "\n",
    "    # Convert each integer to its hexadecimal representation with two digits\n",
    "    hex_red = f\"{red:02x}\"\n",
    "    hex_green = f\"{green:02x}\"\n",
    "    hex_blue = f\"{blue:02x}\"\n",
    "\n",
    "    # Combine the three hexadecimal values into a single string\n",
    "    hex_color = f\"#{hex_red}{hex_green}{hex_blue}\"\n",
    "\n",
    "    colors.append(hex_color)\n",
    "\n",
    "  return colors\n",
    "\n",
    "# Example usage\n",
    "generated_colors = list_of_hexa_colors(5)\n",
    "print(\"Generated hexadecimal colors:\")\n",
    "for color in generated_colors:\n",
    "  print(color)\n"
   ]
  },
  {
   "cell_type": "markdown",
   "metadata": {},
   "source": [
    "2. Write a function list_of_rgb_colors which returns any number of RGB colors in an array."
   ]
  },
  {
   "cell_type": "code",
   "execution_count": null,
   "metadata": {},
   "outputs": [],
   "source": []
  }
 ],
 "metadata": {
  "kernelspec": {
   "display_name": "datascience",
   "language": "python",
   "name": "python3"
  },
  "language_info": {
   "codemirror_mode": {
    "name": "ipython",
    "version": 3
   },
   "file_extension": ".py",
   "mimetype": "text/x-python",
   "name": "python",
   "nbconvert_exporter": "python",
   "pygments_lexer": "ipython3",
   "version": "3.9.18"
  }
 },
 "nbformat": 4,
 "nbformat_minor": 2
}
